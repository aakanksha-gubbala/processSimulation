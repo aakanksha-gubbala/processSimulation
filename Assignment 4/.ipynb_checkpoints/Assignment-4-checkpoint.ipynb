{
 "cells": [
  {
   "cell_type": "markdown",
   "metadata": {},
   "source": [
    "<p style=\"color:#737373; font-family:futura; font-size:200%;\">Cross-Current Heat Exchanger</p>\n",
    "<p style=\"color:#737373; font-family:futura;\">2 February 2021</p>"
   ]
  },
  {
   "cell_type": "markdown",
   "metadata": {
    "cell_style": "split"
   },
   "source": [
    "<p style=\"font-family:futura;\">Schematic Representation</p>\n",
    "<img src=\"diagram.png\" style=\"float: center;\" width=500 height=500/>"
   ]
  },
  {
   "cell_type": "markdown",
   "metadata": {
    "cell_style": "split"
   },
   "source": [
    "<p style=\"font-family:futura;\">The Boundary Value Problem</p>\n",
    "Hot fluid:\n",
    "$$\\frac{dH^H}{dz} = - \\frac{UP}{m_H} (T_H - T_C)\\,\\,; T_H(z=0) = T_H^{in}$$\n",
    "Cold fluid:\n",
    "$$\\frac{dH^C}{dz} = - \\frac{UP}{m_C} (T_H - T_C)\\,\\,; T_C(z=L) = T_C^{in}$$"
   ]
  },
  {
   "cell_type": "code",
   "execution_count": null,
   "metadata": {
    "ExecuteTime": {
     "start_time": "2021-02-02T06:56:17.112Z"
    }
   },
   "outputs": [],
   "source": [
    "import matplotlib\n",
    "import matplotlib.pyplot as plt\n",
    "import numpy as np\n",
    "import pandas as pd\n",
    "import scipy\n",
    "import scipy.integrate\n",
    "import scipy.interpolate\n",
    "import scipy.optimize\n",
    "from matplotlib import style\n",
    "\n",
    "from IPython.display import display, Math\n",
    "%matplotlib inline\n",
    "%config InlineBackend.figure_format = 'retina'\n",
    "\n",
    "style.use(\"classic\")"
   ]
  },
  {
   "cell_type": "markdown",
   "metadata": {},
   "source": [
    "<p style=\"font-family:futura;\">List of compounds</p>"
   ]
  },
  {
   "cell_type": "code",
   "execution_count": null,
   "metadata": {
    "ExecuteTime": {
     "start_time": "2021-02-02T06:56:17.202Z"
    }
   },
   "outputs": [],
   "source": [
    "data = pd.read_csv(\"CpData.csv\").replace(np.NaN, 0)\n",
    "data.index += 1\n",
    "comp = data['Name']\n",
    "MW = data['Mol. wt.']\n",
    "Tmin = data['Tmin, K']\n",
    "Tmax = data['Tmax, K']\n",
    "C1 = data['C1']\n",
    "C2 = data['C2']\n",
    "C3 = data['C3']\n",
    "C4 = data['C4']\n",
    "C5 = data['C5']\n",
    "data"
   ]
  },
  {
   "cell_type": "code",
   "execution_count": null,
   "metadata": {
    "ExecuteTime": {
     "start_time": "2021-02-02T06:56:17.210Z"
    }
   },
   "outputs": [],
   "source": [
    "compH = 'o-Dichlorobenzene'    # HOT fluid\n",
    "compC = 'Ethylene glycol'    # COLD fluid"
   ]
  },
  {
   "cell_type": "code",
   "execution_count": null,
   "metadata": {
    "ExecuteTime": {
     "start_time": "2021-02-02T06:56:17.215Z"
    }
   },
   "outputs": [],
   "source": [
    "iH = comp.index[comp == compH].tolist()[0]\n",
    "iC = comp.index[comp == compC].tolist()[0]"
   ]
  },
  {
   "cell_type": "code",
   "execution_count": null,
   "metadata": {
    "ExecuteTime": {
     "start_time": "2021-02-02T06:56:17.219Z"
    },
    "code_folding": []
   },
   "outputs": [],
   "source": [
    "Tref = 293.15  # K\n",
    "\n",
    "def H_H(T):  # T in K, H in J/kg\n",
    "    return (C1[iH] * (T - Tref) + C2[iH] * (T ** 2 - Tref ** 2) / 2 +\n",
    "            C3[iH] * (T ** 3 - Tref ** 3) / 3 + C4[iH] * (T ** 4 - Tref ** 4) / 4 +\n",
    "            C5[iH] * (T ** 5 - Tref ** 5) / 5) / MW[iH]\n",
    "\n",
    "\n",
    "def H_C(T):  # T in K, H in J/kg\n",
    "    return (C1[iC] * (T - Tref) + C2[iC] * (T ** 2 - Tref ** 2) / 2 +\n",
    "            C3[iC] * (T ** 3 - Tref ** 3) / 3 + C4[iC] * (T ** 4 - Tref ** 4) / 4 +\n",
    "            C5[iC] * (T ** 5 - Tref ** 5) / 5) / MW[iC]\n",
    "\n",
    "\n",
    "# Using linear interpolation to find temperature at a given enthalpy value\n",
    "\n",
    "T = np.linspace(max(Tmin[iH], Tmin[iC]), min(Tmax[iH], Tmax[iC]), 500)\n",
    "T_H = scipy.interpolate.UnivariateSpline(H_H(T), T, k=1, s=0)\n",
    "T_C = scipy.interpolate.UnivariateSpline(H_C(T), T, k=1, s=0)"
   ]
  },
  {
   "cell_type": "code",
   "execution_count": null,
   "metadata": {
    "ExecuteTime": {
     "start_time": "2021-02-02T06:56:17.223Z"
    }
   },
   "outputs": [],
   "source": [
    "plt.figure(facecolor='white')\n",
    "plt.grid()\n",
    "plt.suptitle(\"Enthalpy-temperature plot\")\n",
    "plt.title(\"Hot side: %s & Cold side: %s\" % (compH, compC))\n",
    "plt.plot(T, H_H(T), color='red', linewidth=1.2, label=compH)\n",
    "plt.plot(T, H_C(T), color='blue', linewidth=1.2, label=compC)\n",
    "plt.xlabel(r'$T\\, (K)$')\n",
    "plt.ylabel(r'$H\\, (J/kg)$')\n",
    "plt.legend(loc='best', fontsize=8);"
   ]
  },
  {
   "cell_type": "markdown",
   "metadata": {},
   "source": [
    "<p style=\"font-family:futura;\">Shooting Method</p>"
   ]
  },
  {
   "cell_type": "code",
   "execution_count": null,
   "metadata": {
    "ExecuteTime": {
     "start_time": "2021-02-02T06:56:17.240Z"
    },
    "code_folding": []
   },
   "outputs": [],
   "source": [
    "class CrossCurrentHX:\n",
    "    def __init__(self):\n",
    "        self.U = 350.0  # W/m2-K\n",
    "        self.P = 0.1  # m2/m\n",
    "        self.L = 1.0  # m\n",
    "\n",
    "        self.mH = 0.01  # kg/s\n",
    "        self.mC = 0.01  # kg/s\n",
    "        self.T_Hin = 323.16  # K\n",
    "        self.T_Cin = 303.16  # K\n",
    "\n",
    "    def model(self, H, z):\n",
    "        [H_H, H_C] = H\n",
    "\n",
    "        dH_Hdz = -self.U * self.P * (T_H(H_H) - T_C(H_C)) / self.mH\n",
    "        dH_Cdz = -self.U * self.P * (T_H(H_H) - T_C(H_C)) / self.mC\n",
    "\n",
    "        return [dH_Hdz, dH_Cdz]\n",
    "\n",
    "    def initialize(self):\n",
    "        T = np.linspace(self.T_Cin, self.T_Hin, 1000)\n",
    "        self.T_H = scipy.interpolate.UnivariateSpline(H_H(T), T, k=1, s=0)\n",
    "        self.T_C = scipy.interpolate.UnivariateSpline(H_C(T), T, k=1, s=0)\n",
    "\n",
    "    def shoot(self, T_Cout):\n",
    "        self.T_Cout = T_Cout\n",
    "        H0 = [H_H(self.T_Hin), H_C(self.T_Cout)]\n",
    "        z = [0, self.L]\n",
    "\n",
    "        solution = scipy.integrate.odeint(self.model, H0, z)\n",
    "        H_Cin = solution[-1, 1]\n",
    "        T_Cin = T_C(H_Cin)\n",
    "\n",
    "        error = [T_Cin - self.T_Cin]\n",
    "        return error\n",
    "\n",
    "    def solve(self, n=100):\n",
    "        self.initialize()\n",
    "\n",
    "        guess = [self.T_Cin + 0.0]\n",
    "\n",
    "        lsq = scipy.optimize.least_squares(self.shoot, guess)\n",
    "\n",
    "        H0 = [H_H(self.T_Hin), H_C(self.T_Cout)]\n",
    "        z = np.linspace(0, self.L, n)\n",
    "\n",
    "        sol = scipy.integrate.odeint(self.model, H0, z)\n",
    "        H_Hsol = sol[:, 0]\n",
    "        H_Csol = sol[:, 1]\n",
    "\n",
    "        self.dfsol = pd.DataFrame({\"z\": z,\n",
    "                                   \"T_H\": self.T_H(H_Hsol),\n",
    "                                   \"T_C\": self.T_C(H_Csol)})"
   ]
  },
  {
   "cell_type": "code",
   "execution_count": null,
   "metadata": {
    "ExecuteTime": {
     "start_time": "2021-02-02T06:56:17.244Z"
    }
   },
   "outputs": [],
   "source": [
    "hx = CrossCurrentHX()\n",
    "hx.solve()"
   ]
  },
  {
   "cell_type": "code",
   "execution_count": null,
   "metadata": {
    "ExecuteTime": {
     "start_time": "2021-02-02T06:56:17.247Z"
    }
   },
   "outputs": [],
   "source": [
    "plt.figure(facecolor='white', figsize=(7.5, 7.5))\n",
    "plt.grid()\n",
    "plt.suptitle(\"Enthalpy profile along the length of a cross-current heat exchanger\")\n",
    "plt.title(\"Hot side: %s & Cold side: %s\" % (compH, compC))\n",
    "plt.plot(hx.dfsol.z, hx.dfsol.T_H, color='red', linewidth=1.2, label=compH)\n",
    "plt.plot(hx.dfsol.z, hx.dfsol.T_C, color='blue', linewidth=1.2, label=compC)\n",
    "plt.annotate(r'$T_H^{in}$', xy=(0, hx.T_Hin))\n",
    "plt.annotate(r'$T_C^{in}$', xy=(hx.L, hx.T_Cin))\n",
    "plt.xlabel(r'$L\\, (m)$')\n",
    "plt.ylabel(r'$T\\, (K)$')\n",
    "plt.legend(loc='best', fontsize=8);"
   ]
  },
  {
   "cell_type": "markdown",
   "metadata": {},
   "source": [
    "---\n",
    "<p style=\"color:#737373; font-family:futura;\">Source: Perry, R. H., &amp; Green, D. W. (2008). Physical and Chemical Data. In Perry's chemical engineers' handbook (pp. 165-170). McGraw Hill.</p>"
   ]
  }
 ],
 "metadata": {
  "gist": {
   "data": {
    "description": "Documents/ProcessSimulations/PS_Python/process_simulation/Assignment 4/Untitled.ipynb",
    "public": true
   },
   "id": ""
  },
  "kernelspec": {
   "display_name": "Python 3",
   "language": "python",
   "name": "python3"
  },
  "language_info": {
   "codemirror_mode": {
    "name": "ipython",
    "version": 3
   },
   "file_extension": ".py",
   "mimetype": "text/x-python",
   "name": "python",
   "nbconvert_exporter": "python",
   "pygments_lexer": "ipython3",
   "version": "3.7.6"
  },
  "toc": {
   "base_numbering": 1,
   "nav_menu": {},
   "number_sections": true,
   "sideBar": true,
   "skip_h1_title": false,
   "title_cell": "Table of Contents",
   "title_sidebar": "Contents",
   "toc_cell": false,
   "toc_position": {},
   "toc_section_display": true,
   "toc_window_display": false
  },
  "varInspector": {
   "cols": {
    "lenName": 16,
    "lenType": 16,
    "lenVar": 40
   },
   "kernels_config": {
    "python": {
     "delete_cmd_postfix": "",
     "delete_cmd_prefix": "del ",
     "library": "var_list.py",
     "varRefreshCmd": "print(var_dic_list())"
    },
    "r": {
     "delete_cmd_postfix": ") ",
     "delete_cmd_prefix": "rm(",
     "library": "var_list.r",
     "varRefreshCmd": "cat(var_dic_list()) "
    }
   },
   "types_to_exclude": [
    "module",
    "function",
    "builtin_function_or_method",
    "instance",
    "_Feature"
   ],
   "window_display": false
  }
 },
 "nbformat": 4,
 "nbformat_minor": 4
}
