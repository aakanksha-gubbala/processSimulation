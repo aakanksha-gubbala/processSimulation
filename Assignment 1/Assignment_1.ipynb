{
 "cells": [
  {
   "cell_type": "markdown",
   "metadata": {},
   "source": [
    "<p style=\"color:#737373; font-family:futura; font-size:200%;\">Objects and Curve Fitting </p>\n",
    "<p style=\"color:#737373; font-family:futura;\">12 January 2021</p>"
   ]
  },
  {
   "cell_type": "markdown",
   "metadata": {
    "cell_style": "split"
   },
   "source": [
    "<p style=\"font-family:futura;\">Hydrodemethylation of toluene</p>\n",
    "Hydrogen and toluene are reacted over a solid mineral catalyst containing clinoptilolite (a crystalline silica-alumina) to form methane and benzene.\n",
    "$$C_6H_5CH_3 + H_2 \\rightarrow C_6H_6 + CH_4$$\n",
    "\n",
    "We have to determine the rate law from the differential reactor data. We also have to determine the limiting step.\n",
    "\n"
   ]
  },
  {
   "cell_type": "markdown",
   "metadata": {
    "cell_style": "split"
   },
   "source": [
    "The following reaction mechanism is proposed:\n",
    "\n",
    "<b>Adsorption:</b> $T + S \\rightleftharpoons T.S$\n",
    "\n",
    "$r_{AD} = k_A (C_v P_T - \\frac{C_{T.S}}{K_T})$\n",
    "\n",
    "<b>Surface reaction:</b> $T.S + H_2 \\rightleftharpoons B.S + M$\n",
    "\n",
    "$r_{S} = k_S (P_{H_2} C_{T.S} - \\frac{C_{B.S} P_M}{K_S})$\n",
    "\n",
    "<b>Desorption:</b> $B.S \\rightleftharpoons B + S$\n",
    "\n",
    "$r_{D} = k_D (C_{B.S} - K_B P_B C_v)$"
   ]
  },
  {
   "cell_type": "code",
   "execution_count": 1,
   "metadata": {
    "ExecuteTime": {
     "end_time": "2021-01-09T15:09:17.899923Z",
     "start_time": "2021-01-09T15:09:15.934392Z"
    },
    "scrolled": true
   },
   "outputs": [
    {
     "data": {
      "text/html": [
       "<div>\n",
       "<style scoped>\n",
       "    .dataframe tbody tr th:only-of-type {\n",
       "        vertical-align: middle;\n",
       "    }\n",
       "\n",
       "    .dataframe tbody tr th {\n",
       "        vertical-align: top;\n",
       "    }\n",
       "\n",
       "    .dataframe thead th {\n",
       "        text-align: right;\n",
       "    }\n",
       "</style>\n",
       "<table border=\"1\" class=\"dataframe\">\n",
       "  <thead>\n",
       "    <tr style=\"text-align: right;\">\n",
       "      <th></th>\n",
       "      <th>Run</th>\n",
       "      <th>r</th>\n",
       "      <th>pT</th>\n",
       "      <th>pH2</th>\n",
       "      <th>pM</th>\n",
       "      <th>pB</th>\n",
       "    </tr>\n",
       "  </thead>\n",
       "  <tbody>\n",
       "    <tr>\n",
       "      <th>0</th>\n",
       "      <td>1</td>\n",
       "      <td>7.100000e-09</td>\n",
       "      <td>1.0</td>\n",
       "      <td>1</td>\n",
       "      <td>1</td>\n",
       "      <td>0</td>\n",
       "    </tr>\n",
       "    <tr>\n",
       "      <th>1</th>\n",
       "      <td>2</td>\n",
       "      <td>7.130000e-09</td>\n",
       "      <td>1.0</td>\n",
       "      <td>1</td>\n",
       "      <td>4</td>\n",
       "      <td>0</td>\n",
       "    </tr>\n",
       "    <tr>\n",
       "      <th>2</th>\n",
       "      <td>3</td>\n",
       "      <td>4.160000e-09</td>\n",
       "      <td>1.0</td>\n",
       "      <td>1</td>\n",
       "      <td>0</td>\n",
       "      <td>1</td>\n",
       "    </tr>\n",
       "    <tr>\n",
       "      <th>3</th>\n",
       "      <td>4</td>\n",
       "      <td>1.970000e-09</td>\n",
       "      <td>1.0</td>\n",
       "      <td>1</td>\n",
       "      <td>0</td>\n",
       "      <td>4</td>\n",
       "    </tr>\n",
       "    <tr>\n",
       "      <th>4</th>\n",
       "      <td>5</td>\n",
       "      <td>4.200000e-09</td>\n",
       "      <td>1.0</td>\n",
       "      <td>1</td>\n",
       "      <td>1</td>\n",
       "      <td>1</td>\n",
       "    </tr>\n",
       "    <tr>\n",
       "      <th>5</th>\n",
       "      <td>6</td>\n",
       "      <td>1.710000e-09</td>\n",
       "      <td>1.0</td>\n",
       "      <td>1</td>\n",
       "      <td>0</td>\n",
       "      <td>5</td>\n",
       "    </tr>\n",
       "    <tr>\n",
       "      <th>6</th>\n",
       "      <td>7</td>\n",
       "      <td>7.180000e-09</td>\n",
       "      <td>1.0</td>\n",
       "      <td>1</td>\n",
       "      <td>0</td>\n",
       "      <td>0</td>\n",
       "    </tr>\n",
       "    <tr>\n",
       "      <th>7</th>\n",
       "      <td>8</td>\n",
       "      <td>1.420000e-08</td>\n",
       "      <td>1.0</td>\n",
       "      <td>2</td>\n",
       "      <td>0</td>\n",
       "      <td>0</td>\n",
       "    </tr>\n",
       "    <tr>\n",
       "      <th>8</th>\n",
       "      <td>9</td>\n",
       "      <td>2.840000e-08</td>\n",
       "      <td>1.0</td>\n",
       "      <td>4</td>\n",
       "      <td>0</td>\n",
       "      <td>0</td>\n",
       "    </tr>\n",
       "    <tr>\n",
       "      <th>9</th>\n",
       "      <td>10</td>\n",
       "      <td>4.700000e-09</td>\n",
       "      <td>0.5</td>\n",
       "      <td>1</td>\n",
       "      <td>0</td>\n",
       "      <td>0</td>\n",
       "    </tr>\n",
       "    <tr>\n",
       "      <th>10</th>\n",
       "      <td>11</td>\n",
       "      <td>7.130000e-09</td>\n",
       "      <td>1.0</td>\n",
       "      <td>1</td>\n",
       "      <td>0</td>\n",
       "      <td>0</td>\n",
       "    </tr>\n",
       "    <tr>\n",
       "      <th>11</th>\n",
       "      <td>12</td>\n",
       "      <td>1.170000e-08</td>\n",
       "      <td>5.0</td>\n",
       "      <td>1</td>\n",
       "      <td>0</td>\n",
       "      <td>0</td>\n",
       "    </tr>\n",
       "    <tr>\n",
       "      <th>12</th>\n",
       "      <td>13</td>\n",
       "      <td>1.270000e-08</td>\n",
       "      <td>10.0</td>\n",
       "      <td>1</td>\n",
       "      <td>0</td>\n",
       "      <td>0</td>\n",
       "    </tr>\n",
       "    <tr>\n",
       "      <th>13</th>\n",
       "      <td>14</td>\n",
       "      <td>1.310000e-08</td>\n",
       "      <td>15.0</td>\n",
       "      <td>1</td>\n",
       "      <td>0</td>\n",
       "      <td>0</td>\n",
       "    </tr>\n",
       "    <tr>\n",
       "      <th>14</th>\n",
       "      <td>15</td>\n",
       "      <td>1.330000e-08</td>\n",
       "      <td>20.0</td>\n",
       "      <td>1</td>\n",
       "      <td>0</td>\n",
       "      <td>0</td>\n",
       "    </tr>\n",
       "    <tr>\n",
       "      <th>15</th>\n",
       "      <td>16</td>\n",
       "      <td>4.180000e-09</td>\n",
       "      <td>1.0</td>\n",
       "      <td>1</td>\n",
       "      <td>1</td>\n",
       "      <td>1</td>\n",
       "    </tr>\n",
       "  </tbody>\n",
       "</table>\n",
       "</div>"
      ],
      "text/plain": [
       "    Run             r    pT  pH2  pM  pB\n",
       "0     1  7.100000e-09   1.0    1   1   0\n",
       "1     2  7.130000e-09   1.0    1   4   0\n",
       "2     3  4.160000e-09   1.0    1   0   1\n",
       "3     4  1.970000e-09   1.0    1   0   4\n",
       "4     5  4.200000e-09   1.0    1   1   1\n",
       "5     6  1.710000e-09   1.0    1   0   5\n",
       "6     7  7.180000e-09   1.0    1   0   0\n",
       "7     8  1.420000e-08   1.0    2   0   0\n",
       "8     9  2.840000e-08   1.0    4   0   0\n",
       "9    10  4.700000e-09   0.5    1   0   0\n",
       "10   11  7.130000e-09   1.0    1   0   0\n",
       "11   12  1.170000e-08   5.0    1   0   0\n",
       "12   13  1.270000e-08  10.0    1   0   0\n",
       "13   14  1.310000e-08  15.0    1   0   0\n",
       "14   15  1.330000e-08  20.0    1   0   0\n",
       "15   16  4.180000e-09   1.0    1   1   1"
      ]
     },
     "execution_count": 1,
     "metadata": {},
     "output_type": "execute_result"
    }
   ],
   "source": [
    "import numpy as np\n",
    "import scipy.optimize as opt\n",
    "import scipy.constants as constants\n",
    "import pandas as pd\n",
    "from sklearn import metrics\n",
    "import matplotlib.pyplot as plt\n",
    "from matplotlib import style\n",
    "\n",
    "from IPython.display import display, Math\n",
    "\n",
    "style.use(\"classic\")\n",
    "\n",
    "filename = \"adsorption_data.csv\"\n",
    "df = pd.read_csv(filename)\n",
    "df\n",
    "# Units of rate : g mol toluene / (g cat . s)\n",
    "# Units of partial pressure : atm"
   ]
  },
  {
   "cell_type": "markdown",
   "metadata": {
    "cell_style": "split"
   },
   "source": [
    "The rate law for adsorption limited reaction is, \n",
    "\n",
    "$-r'_T = \\frac{k P_{H_2} P_T}{P_{H_2} + P_B P_M \\frac{K_B}{K_S} + K_B P_B P_{H_2}} $"
   ]
  },
  {
   "cell_type": "code",
   "execution_count": 2,
   "metadata": {
    "ExecuteTime": {
     "end_time": "2021-01-09T15:09:18.483789Z",
     "start_time": "2021-01-09T15:09:17.920506Z"
    },
    "cell_style": "center",
    "code_folding": [
     2,
     7,
     11,
     15
    ],
    "scrolled": true
   },
   "outputs": [
    {
     "data": {
      "text/latex": [
       "$\\displaystyle R^2 = -1.6438297888034756 \\\\$"
      ],
      "text/plain": [
       "<IPython.core.display.Math object>"
      ]
     },
     "metadata": {},
     "output_type": "display_data"
    }
   ],
   "source": [
    "# Adsorption limited\n",
    "class AdsorptionLimited:\n",
    "    def __init__(self, filename):\n",
    "        self.df = pd.read_csv(filename)\n",
    "        self.rate = self.df['r']\n",
    "        self.x = [self.df['pT'], self.df['pH2'], self.df['pM'], self.df['pB']]\n",
    "\n",
    "    def RateLaw(self, x, k, K_B, K_S):\n",
    "        return k * (self.x[1] * self.x[0]) / (\n",
    "                    self.x[1] + K_B * self.x[2] * self.x[3] / K_S + K_B * self.x[3] * self.x[1])\n",
    "\n",
    "    def getParameters(self):\n",
    "        [k, K_B, K_S], params_cov = opt.curve_fit(self.RateLaw, self.x, self.rate, [10, 10, 10], maxfev=1000000)\n",
    "        return [k, K_B, K_S]\n",
    "\n",
    "    def getAccuracy(self):\n",
    "        [k, K_B, K_S] = self.getParameters()\n",
    "        return metrics.r2_score(self.RateLaw(self.x, k, K_B, K_S), self.rate)\n",
    "\n",
    "ads = AdsorptionLimited(filename)\n",
    "display(Math(r'R^2 = {} \\\\'.format(ads.getAccuracy())))"
   ]
  },
  {
   "cell_type": "markdown",
   "metadata": {},
   "source": [
    "---\n",
    "The rate law for desorption limited reaction is, \n",
    "\n",
    "$-r'_T = \\frac{k P_{H_2} P_T}{P_M + K_T P_T P_M + K_T K_S P_T P_{H_2}} $"
   ]
  },
  {
   "cell_type": "code",
   "execution_count": 3,
   "metadata": {
    "ExecuteTime": {
     "end_time": "2021-01-09T15:09:18.907073Z",
     "start_time": "2021-01-09T15:09:18.487643Z"
    },
    "cell_style": "center",
    "code_folding": [
     2,
     7,
     11,
     15
    ]
   },
   "outputs": [
    {
     "data": {
      "text/latex": [
       "$\\displaystyle R^2 = -8.723937445327442 \\\\$"
      ],
      "text/plain": [
       "<IPython.core.display.Math object>"
      ]
     },
     "metadata": {},
     "output_type": "display_data"
    }
   ],
   "source": [
    "# Desorption limited\n",
    "class DesorptionLimited:\n",
    "    def __init__(self, filename):\n",
    "        self.df = pd.read_csv(filename)\n",
    "        self.rate = self.df['r']\n",
    "        self.x = [self.df['pT'], self.df['pH2'], self.df['pM'], self.df['pB']]\n",
    "\n",
    "    def RateLaw(self, x, k, K_T, K_S):\n",
    "        return k * (self.x[1] * self.x[0]) / (\n",
    "                    self.x[2] + K_T * self.x[0] * self.x[2] + K_S * K_T * self.x[0] * self.x[1])\n",
    "\n",
    "    def getParameters(self):\n",
    "        [k, K_T, K_S], params_cov = opt.curve_fit(self.RateLaw, self.x, self.rate, [10, 10, 10], maxfev=1000000)\n",
    "        return [k, K_T, K_S]\n",
    "\n",
    "    def getAccuracy(self):\n",
    "        [k, K_T, K_S] = self.getParameters()\n",
    "        return metrics.r2_score(self.RateLaw(self.x, k, K_T, K_S), self.rate)\n",
    "\n",
    "ds = DesorptionLimited(filename)\n",
    "display(Math(r'R^2 = {} \\\\'.format(ds.getAccuracy())))"
   ]
  },
  {
   "cell_type": "markdown",
   "metadata": {},
   "source": [
    "---\n",
    "The rate law when surface reaction is limited is, \n",
    "\n",
    "$-r'_T = \\frac{k P_{H_2} P_T}{1+ K_B P_B + K_T P_T} $"
   ]
  },
  {
   "cell_type": "code",
   "execution_count": 4,
   "metadata": {
    "ExecuteTime": {
     "end_time": "2021-01-09T15:09:19.951280Z",
     "start_time": "2021-01-09T15:09:18.911961Z"
    },
    "code_folding": [
     2,
     7,
     10,
     14,
     18
    ]
   },
   "outputs": [
    {
     "data": {
      "text/latex": [
       "$\\displaystyle k: 1.4476730782989879e-08 \\\\ K_T: 1.0384105579291534 \\\\ K_B: 1.3905264358917815$"
      ],
      "text/plain": [
       "<IPython.core.display.Math object>"
      ]
     },
     "metadata": {},
     "output_type": "display_data"
    },
    {
     "data": {
      "text/latex": [
       "$\\displaystyle R^2 = 0.9999510288055501$"
      ],
      "text/plain": [
       "<IPython.core.display.Math object>"
      ]
     },
     "metadata": {},
     "output_type": "display_data"
    },
    {
     "data": {
      "image/png": "[encoded data removed]",
      "text/plain": [
       "<Figure size 640x480 with 1 Axes>"
      ]
     },
     "metadata": {},
     "output_type": "display_data"
    }
   ],
   "source": [
    "# Surface reaction limited\n",
    "class SurfaceReactionLimited:\n",
    "    def __init__(self, filename):\n",
    "        self.df = pd.read_csv(filename)\n",
    "        self.rate = self.df['r']\n",
    "        self.x = [self.df['pT'], self.df['pH2'], self.df['pM'], self.df['pB']]\n",
    "\n",
    "    def RateLaw(self, x, k, K_T, K_B):\n",
    "        return k * (self.x[1] * self.x[0]) / (1 + K_T * self.x[0] + K_B * self.x[3])\n",
    "\n",
    "    def getParameters(self):\n",
    "        [k, K_T, K_B], params_cov = opt.curve_fit(self.RateLaw, self.x, self.rate, [144, 1.04, 1.4], maxfev=1000000)\n",
    "        return [k, K_T, K_B]\n",
    "\n",
    "    def getAccuracy(self):\n",
    "        [k, K_T, K_B] = self.getParameters()\n",
    "        return metrics.r2_score(self.RateLaw(self.x, k, K_T, K_B), self.rate)\n",
    "\n",
    "    def ParityPlot(self):\n",
    "        [k, K_T, K_B] = self.getParameters()\n",
    "        plt.figure(facecolor=\"white\")\n",
    "        plt.title(\"Parity Plot: Experimental Rate vs. Calculated Rate\")\n",
    "        plt.scatter(self.rate, self.RateLaw(self.x, k, K_T, K_B))\n",
    "        plt.plot(self.rate, self.rate, color='black')\n",
    "        plt.xlabel(r\"$-r'_{T}$, Experiment ($\\frac{g\\ mol\\ toluene}{g-cat.s}$)\")\n",
    "        plt.ylabel(r\"$-r'_{T}$, Calculated ($\\frac{g\\ mol\\ toluene}{g-cat.s}$)\")\n",
    "\n",
    "\n",
    "srxn = SurfaceReactionLimited(filename)\n",
    "\n",
    "[k, K_T, K_B] = srxn.getParameters()\n",
    "display(Math(r'k: {} \\\\ K_T: {} \\\\ K_B: {}'.format(k, K_T, K_B)))\n",
    "\n",
    "display(Math(r'R^2 = {}'.format(srxn.getAccuracy())))\n",
    "\n",
    "srxn.ParityPlot()"
   ]
  },
  {
   "cell_type": "code",
   "execution_count": 5,
   "metadata": {
    "ExecuteTime": {
     "end_time": "2021-01-09T15:09:20.549101Z",
     "start_time": "2021-01-09T15:09:19.955222Z"
    }
   },
   "outputs": [
    {
     "name": "stdout",
     "output_type": "stream",
     "text": [
      "\n",
      "Hydrodemethylation of toluene is SURFACE REACTION limited.\n"
     ]
    }
   ],
   "source": [
    "strings = ['ADSORPTION limited', 'SURFACE REACTION limited', 'DESORPTION limited']\n",
    "accuracy = np.array([ads.getAccuracy(), srxn.getAccuracy(), ds.getAccuracy()])\n",
    "max_index = np.argmax(accuracy)\n",
    "print(\"\\nHydrodemethylation of toluene is %s.\" % strings[max_index])"
   ]
  },
  {
   "cell_type": "markdown",
   "metadata": {
    "cell_style": "center"
   },
   "source": [
    "---\n",
    "<p style=\"color:#737373; font-family:futura;\">Source: Fogler, H. S. (2016). Catalysis and Catalytic Reactors. In Elements of chemical reaction engineering. Boston: Prentice Hall.</p>"
   ]
  }
 ],
 "metadata": {
  "gist": {
   "data": {
    "description": "Documents/ProcessSimulations/PS_Python/Assignment 1.ipynb",
    "public": false
   },
   "id": ""
  },
  "kernelspec": {
   "display_name": "Python 3",
   "language": "python",
   "name": "python3"
  },
  "language_info": {
   "codemirror_mode": {
    "name": "ipython",
    "version": 3
   },
   "file_extension": ".py",
   "mimetype": "text/x-python",
   "name": "python",
   "nbconvert_exporter": "python",
   "pygments_lexer": "ipython3",
   "version": "3.7.6"
  },
  "toc": {
   "base_numbering": 1,
   "nav_menu": {
    "height": "245px",
    "width": "160px"
   },
   "number_sections": true,
   "sideBar": true,
   "skip_h1_title": false,
   "title_cell": "Table of Contents",
   "title_sidebar": "Contents",
   "toc_cell": false,
   "toc_position": {},
   "toc_section_display": true,
   "toc_window_display": false
  },
  "varInspector": {
   "cols": {
    "lenName": 16,
    "lenType": 16,
    "lenVar": 40
   },
   "kernels_config": {
    "python": {
     "delete_cmd_postfix": "",
     "delete_cmd_prefix": "del ",
     "library": "var_list.py",
     "varRefreshCmd": "print(var_dic_list())"
    },
    "r": {
     "delete_cmd_postfix": ") ",
     "delete_cmd_prefix": "rm(",
     "library": "var_list.r",
     "varRefreshCmd": "cat(var_dic_list()) "
    }
   },
   "types_to_exclude": [
    "module",
    "function",
    "builtin_function_or_method",
    "instance",
    "_Feature"
   ],
   "window_display": false
  }
 },
 "nbformat": 4,
 "nbformat_minor": 4
}
